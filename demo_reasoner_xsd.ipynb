{
 "cells": [
  {
   "cell_type": "code",
   "execution_count": 52,
   "metadata": {
    "collapsed": true,
    "pycharm": {
     "name": "#%%\n"
    }
   },
   "outputs": [
    {
     "data": {
      "text/plain": "<Graph identifier=N6c567a686ea742da90920765cf897ece (<class 'rdflib.graph.Graph'>)>"
     },
     "execution_count": 52,
     "metadata": {},
     "output_type": "execute_result"
    }
   ],
   "source": [
    "import rdflib\n",
    "\n",
    "# define an ontology with RDF triples in TTL (\"turtle\") format\n",
    "ontology_data = \"\"\"\n",
    "prefix : <http://sites.psu.edu/reinhartgroup/mykg/>\n",
    "@prefix sh: <http://www.w3.org/ns/shacl#> .\n",
    "@prefix rdf: <http://www.w3.org/1999/02/22-rdf-syntax-ns#> .\n",
    "@prefix rdfs: <http://www.w3.org/2000/01/rdf-schema#> .\n",
    "@prefix xsd: <http://www.w3.org/2001/XMLSchema#> .\n",
    "@prefix unit: <http://qudt.org/vocab/unit/> .\n",
    "\n",
    "# these classes do nothing, they are for example purposes only\n",
    ":Measurement a rdfs:Class .\n",
    ":Length rdfs:subClassOf :Measurement .\n",
    ":Height rdfs:subClassOf :Measurement .\n",
    "\"\"\"\n",
    "ont_graph = rdflib.Graph()\n",
    "ont_graph.parse(data=ontology_data, format=\"turtle\")\n",
    "\n",
    "# define constraint shapes using RDF triples in TTL\n",
    "shacl_data = \"\"\"\n",
    "prefix : <http://sites.psu.edu/reinhartgroup/mykg/>\n",
    "@prefix sh: <http://www.w3.org/ns/shacl#> .\n",
    "@prefix rdf: <http://www.w3.org/1999/02/22-rdf-syntax-ns#> .\n",
    "@prefix rdfs: <http://www.w3.org/2000/01/rdf-schema#> .\n",
    "@prefix xsd: <http://www.w3.org/2001/XMLSchema#> .\n",
    "@prefix qudt: <http://qudt.org/schema/qudt/> .\n",
    "@prefix unit: <http://qudt.org/vocab/unit/> .\n",
    "\n",
    ":myRule a sh:NodeShape ;             # enforce a Shape on the Node with type Measurement (name <myRule> can be anything)\n",
    "    sh:targetClass :Measurement ;    # this should apply to :Measurement and all its subClasses\n",
    "    sh:property [\n",
    "        sh:path qudt:numericValue ;  # place constraints on the numericValue of the :Measurement\n",
    "        sh:nodeKind sh:Literal ;     # make sure we are evaluating a literal\n",
    "        sh:or ( [ sh:datatype xsd:double ] [ sh:datatype xsd:float ] [ sh:datatype xsd:decimal ] ) ;  # enforce certain datatypes\n",
    "        sh:minInclusive 0.0 ;        # enforce >=0 values\n",
    "        sh:minCount 1 ;              # enforce at least 1 qudt:numericValue\n",
    "        sh:maxCount 1 ;              # enforce at most 1 qudt:numericValue\n",
    "    ] .\n",
    "\"\"\"\n",
    "shacl_graph = rdflib.Graph()\n",
    "shacl_graph.parse(data=shacl_data, format=\"turtle\")"
   ]
  },
  {
   "cell_type": "code",
   "execution_count": 57,
   "outputs": [
    {
     "name": "stdout",
     "output_type": "stream",
     "text": [
      "\n",
      "prefix : <http://sites.psu.edu/reinhartgroup/mykg/>\n",
      "@prefix rdf: <http://www.w3.org/1999/02/22-rdf-syntax-ns#> .\n",
      "@prefix rdfs: <http://www.w3.org/2000/01/rdf-schema#> .\n",
      "@prefix qudt: <http://qudt.org/schema/qudt/> .\n",
      "@prefix unit: <http://qudt.org/vocab/unit/> .\n",
      "@prefix xsd: <http://www.w3.org/2001/XMLSchema#> .\n",
      "\n",
      ":Length1 a :Length ;\n",
      "  qudt:numericValue -1.0 ;\n",
      "  qudt:unit unit:CentiM ;\n",
      ".\n",
      "\n",
      ":Length2 a :Length ;\n",
      "  qudt:numericValue 2.0 ;\n",
      "  qudt:unit unit:M ;\n",
      ".\n",
      "\n",
      ":Height1 a :Height ;\n",
      "  qudt:numericValue \"3\"^^xsd:str ;\n",
      "  qudt:unit unit:M ;\n",
      ".\n",
      "\n",
      ":Height2 a :Height ;\n",
      "  qudt:numericValue 4.0 ;\n",
      "  qudt:unit unit:M ;\n",
      ".\n",
      "\n"
     ]
    }
   ],
   "source": [
    "import ontology\n",
    "import importlib\n",
    "importlib.reload(ontology)\n",
    "\n",
    "# define data instances using RDF triples in TTL\n",
    "instances = [\n",
    "    # should fail due to negative value, violating minInclusive\n",
    "    dict(name='Length1', type='Length', value=-1.0, unit='CentiM'),\n",
    "    # should pass\n",
    "    dict(name='Length2', type='Length', value=2.0, unit='M'),\n",
    "    # should fail due to wrong datatype\n",
    "    dict(name='Height1', type='Height', value='\"3\"^^xsd:str', unit='M'),\n",
    "    # should pass\n",
    "    dict(name='Height2', type='Height', value=4.0, unit='M'),\n",
    "]\n",
    "\n",
    "data = ontology.DataGraphTemplate(instances)\n",
    "print(data)"
   ],
   "metadata": {
    "collapsed": false,
    "pycharm": {
     "name": "#%%\n"
    }
   }
  },
  {
   "cell_type": "code",
   "execution_count": 59,
   "outputs": [
    {
     "name": "stdout",
     "output_type": "stream",
     "text": [
      "['Height1', 'Length1']\n"
     ]
    }
   ],
   "source": [
    "shacl = ontology.Validator(ont_graph, shacl_graph)\n",
    "bad_nodes = shacl.run(data.as_graph())\n",
    "print(bad_nodes)"
   ],
   "metadata": {
    "collapsed": false,
    "pycharm": {
     "name": "#%%\n"
    }
   }
  },
  {
   "cell_type": "code",
   "execution_count": null,
   "outputs": [],
   "source": [],
   "metadata": {
    "collapsed": false,
    "pycharm": {
     "name": "#%%\n"
    }
   }
  }
 ],
 "metadata": {
  "kernelspec": {
   "display_name": "Python 3",
   "language": "python",
   "name": "python3"
  },
  "language_info": {
   "codemirror_mode": {
    "name": "ipython",
    "version": 2
   },
   "file_extension": ".py",
   "mimetype": "text/x-python",
   "name": "python",
   "nbconvert_exporter": "python",
   "pygments_lexer": "ipython2",
   "version": "2.7.6"
  }
 },
 "nbformat": 4,
 "nbformat_minor": 0
}