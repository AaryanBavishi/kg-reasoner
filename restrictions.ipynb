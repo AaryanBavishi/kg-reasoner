{
 "cells": [
  {
   "cell_type": "markdown",
   "source": [
    "# very simple example with Measurements mini-ontology"
   ],
   "metadata": {
    "collapsed": false,
    "pycharm": {
     "name": "#%% md\n"
    }
   }
  },
  {
   "cell_type": "code",
   "execution_count": 126,
   "outputs": [
    {
     "data": {
      "text/plain": "<Graph identifier=Nafe6c967461b450d80cbe23f31adf4e3 (<class 'rdflib.graph.Graph'>)>"
     },
     "execution_count": 126,
     "metadata": {},
     "output_type": "execute_result"
    }
   ],
   "source": [
    "import rdflib\n",
    "\n",
    "# define an ontology with RDF triples in TTL (\"turtle\") format\n",
    "ontology_data = \"\"\"\n",
    "prefix : <http://example.org/>\n",
    "@prefix sh: <http://www.w3.org/ns/shacl#> .\n",
    "@prefix rdf: <http://www.w3.org/1999/02/22-rdf-syntax-ns#> .\n",
    "@prefix rdfs: <http://www.w3.org/2000/01/rdf-schema#> .\n",
    "@prefix xsd: <http://www.w3.org/2001/XMLSchema#> .\n",
    "@prefix unit: <http://qudt.org/vocab/unit/> .\n",
    "\n",
    "# these classes do nothing, they are for example purposes only\n",
    ":Measurement a rdfs:Class .\n",
    ":Length rdfs:subClassOf :Measurement .\n",
    ":Height rdfs:subClassOf :Measurement .\n",
    "\"\"\"\n",
    "ontology = rdflib.Graph()\n",
    "ontology.parse(data=ontology_data, format=\"turtle\")\n",
    "\n",
    "# define constraint shapes using RDF triples in TTL\n",
    "shacl_data = \"\"\"\n",
    "prefix : <http://example.org/>\n",
    "@prefix sh: <http://www.w3.org/ns/shacl#> .\n",
    "@prefix rdf: <http://www.w3.org/1999/02/22-rdf-syntax-ns#> .\n",
    "@prefix rdfs: <http://www.w3.org/2000/01/rdf-schema#> .\n",
    "@prefix xsd: <http://www.w3.org/2001/XMLSchema#> .\n",
    "@prefix qudt: <http://qudt.org/schema/qudt/> .\n",
    "@prefix unit: <http://qudt.org/vocab/unit/> .\n",
    "\n",
    ":myRule a sh:NodeShape ;             # enforce a Shape on the Node with type Measurement (name <myRule> can be anything)\n",
    "    sh:targetClass :Measurement ;    # this should apply to :Measurement and all its subClasses\n",
    "    sh:property [\n",
    "        sh:path qudt:numericValue ;  # place constraints on the numericValue of the :Measurement\n",
    "        sh:nodeKind sh:Literal ;     # make sure we are evaluating a literal\n",
    "        sh:or ( [ sh:datatype xsd:double ] [ sh:datatype xsd:float ] [ sh:datatype xsd:decimal ] ) ;  # enforce certain datatypes\n",
    "        sh:minInclusive 0.0 ;        # enforce >=0 values\n",
    "        sh:minCount 1 ;              # enforce at least 1 qudt:numericValue\n",
    "        sh:maxCount 1 ;              # enforce at most 1 qudt:numericValue\n",
    "    ] .\n",
    "\"\"\"\n",
    "shacl = rdflib.Graph()\n",
    "shacl.parse(data=shacl_data, format=\"turtle\")"
   ],
   "metadata": {
    "collapsed": false,
    "pycharm": {
     "name": "#%%\n"
    }
   }
  },
  {
   "cell_type": "code",
   "execution_count": 127,
   "outputs": [],
   "source": [
    "# define data instances using RDF triples in TTL\n",
    "data_graph = '''\n",
    "prefix : <http://example.org/>\n",
    "@prefix sh: <http://www.w3.org/ns/shacl#> .\n",
    "@prefix rdf: <http://www.w3.org/1999/02/22-rdf-syntax-ns#> .\n",
    "@prefix rdfs: <http://www.w3.org/2000/01/rdf-schema#> .\n",
    "@prefix xsd: <http://www.w3.org/2001/XMLSchema#> .\n",
    "@prefix qudt: <http://qudt.org/schema/qudt/> .\n",
    "@prefix unit: <http://qudt.org/vocab/unit/> .\n",
    "\n",
    "# should fail due to negative value, violating minInclusive\n",
    ":Length1 a :Length ;\n",
    "  qudt:numericValue -1.0 ;\n",
    "  qudt:unit unit:CentiM ;\n",
    ".\n",
    "\n",
    "# should pass\n",
    ":Length2 a :Length ;\n",
    "  qudt:numericValue \"2.0\"^^xsd:decimal ;\n",
    "  qudt:unit unit:M ;\n",
    ".\n",
    "\n",
    "# should fail due to wrong datatype\n",
    ":Height1 a :Height ;\n",
    "  qudt:numericValue \"3\"^^xsd:str ;\n",
    ".\n",
    "\n",
    "# should pass\n",
    ":Height2 a :Height ;\n",
    "  qudt:numericValue 4.0 ;\n",
    "  qudt:unit unit:M ;\n",
    ".\n",
    "'''"
   ],
   "metadata": {
    "collapsed": false,
    "pycharm": {
     "name": "#%%\n"
    }
   }
  },
  {
   "cell_type": "code",
   "execution_count": 128,
   "outputs": [
    {
     "name": "stdout",
     "output_type": "stream",
     "text": [
      "Validation Report\n",
      "Conforms: False\n",
      "Results (2):\n",
      "Constraint Violation in MinInclusiveConstraintComponent (http://www.w3.org/ns/shacl#MinInclusiveConstraintComponent):\n",
      "\tSeverity: sh:Violation\n",
      "\tSource Shape: [ sh:maxCount Literal(\"1\", datatype=xsd:integer) ; sh:minCount Literal(\"1\", datatype=xsd:integer) ; sh:minInclusive Literal(\"0.0\", datatype=xsd:decimal) ; sh:nodeKind sh:Literal ; sh:or ( [ sh:datatype xsd:double ] [ sh:datatype xsd:float ] [ sh:datatype xsd:decimal ] ) ; sh:path qudt:numericValue ]\n",
      "\tFocus Node: :Length1\n",
      "\tValue Node: Literal(\"-1.0\", datatype=xsd:decimal)\n",
      "\tResult Path: qudt:numericValue\n",
      "\tMessage: Value is not >= Literal(\"0.0\", datatype=xsd:decimal)\n",
      "Constraint Violation in OrConstraintComponent (http://www.w3.org/ns/shacl#OrConstraintComponent):\n",
      "\tSeverity: sh:Violation\n",
      "\tSource Shape: [ sh:maxCount Literal(\"1\", datatype=xsd:integer) ; sh:minCount Literal(\"1\", datatype=xsd:integer) ; sh:minInclusive Literal(\"0.0\", datatype=xsd:decimal) ; sh:nodeKind sh:Literal ; sh:or ( [ sh:datatype xsd:double ] [ sh:datatype xsd:float ] [ sh:datatype xsd:decimal ] ) ; sh:path qudt:numericValue ]\n",
      "\tFocus Node: :Height1\n",
      "\tValue Node: Literal(\"3\" = None, datatype=xsd:str)\n",
      "\tResult Path: qudt:numericValue\n",
      "\tMessage: Node Literal(\"3\" = None, datatype=xsd:str) does not conform to one or more shapes in [ sh:datatype xsd:double ] , [ sh:datatype xsd:float ] , [ sh:datatype xsd:decimal ]\n",
      "\n"
     ]
    }
   ],
   "source": [
    "from pyshacl import validate\n",
    "\n",
    "# run the validation algorithm\n",
    "conforms, v_graph, v_text = validate(data_graph, shacl_graph=shacl,\n",
    "                                     ont_graph=ontology,\n",
    "                                     data_graph_format=\"turtle\",\n",
    "                                     shacl_graph_format=\"turtle\",\n",
    "                                     inference='rdfs', debug=False,\n",
    "                                     serialize_report_graph=False)\n",
    "print(v_text)"
   ],
   "metadata": {
    "collapsed": false,
    "pycharm": {
     "name": "#%%\n"
    }
   }
  },
  {
   "cell_type": "code",
   "execution_count": 129,
   "outputs": [
    {
     "name": "stdout",
     "output_type": "stream",
     "text": [
      "['Length1', 'Height1']\n"
     ]
    }
   ],
   "source": [
    "# example of SPARQL query to identify the values in violation of SHACL shapes:\n",
    "sparql_concise = \"\"\"\n",
    "SELECT ?focus\n",
    "  WHERE {\n",
    "    ?id rdf:type sh:ValidationResult .\n",
    "    ?id sh:focusNode ?focus .\n",
    "  }\n",
    "\"\"\"\n",
    "\n",
    "result = v_graph.query(sparql_concise)\n",
    "bad_URI = [list(it.values())[0] for it in result.bindings]\n",
    "bad_nodes = [it.toPython().split('/')[-1] for it in bad_URI]\n",
    "print(bad_nodes)"
   ],
   "metadata": {
    "collapsed": false,
    "pycharm": {
     "name": "#%%\n"
    }
   }
  },
  {
   "cell_type": "markdown",
   "source": [
    "# more complex example with shapes and richer metadata"
   ],
   "metadata": {
    "collapsed": false,
    "pycharm": {
     "name": "#%% md\n"
    }
   }
  },
  {
   "cell_type": "code",
   "execution_count": 58,
   "outputs": [],
   "source": [
    "import rdflib\n",
    "\n",
    "# read an ontology with RDF triples in TTL (\"turtle\") format\n",
    "ontology = rdflib.Graph()\n",
    "ontology.parse('ontology/basic_shapes.ttl', format=\"turtle\")\n",
    "\n",
    "# read constraint shapes defined using RDF triples in TTL\n",
    "shacl = rdflib.Graph()\n",
    "shacl.parse('ontology/shapes_shacl.ttl', format=\"turtle\")\n",
    "\n",
    "# define a data graph for this instance\n",
    "data_graph = \"\"\"\n",
    "@prefix : <http://sites.psu.edu/reinhartgroup/mykg/> .\n",
    "@prefix qudt: <http://qudt.org/schema/qudt/> .\n",
    "@prefix unit: <http://qudt.org/vocab/unit/> .\n",
    "@prefix xsd: <http://www.w3.org/2001/XMLSchema#> .\n",
    "\n",
    ":Sample1 a :Cuboid ;\n",
    "  :measurement :Length1 ;\n",
    "  :measurement :Height1 ;\n",
    "  :measurement :Width1 ;\n",
    ".\n",
    "\n",
    ":Length1 a :Length ;\n",
    "  qudt:numericValue 1.0 ;\n",
    "  qudt:unit unit:CentiM ;\n",
    ".\n",
    "\n",
    ":Height1 a :Length ;\n",
    "  qudt:numericValue -2.0 ;\n",
    "  qudt:unit unit:CentiM ;\n",
    ".\n",
    "\n",
    ":Width1 a :Length ;\n",
    "  qudt:numericValue 3 ;\n",
    "  qudt:unit unit:CentiM ;\n",
    ".\n",
    "\"\"\""
   ],
   "metadata": {
    "collapsed": false,
    "pycharm": {
     "name": "#%%\n"
    }
   }
  },
  {
   "cell_type": "code",
   "execution_count": 59,
   "outputs": [
    {
     "name": "stdout",
     "output_type": "stream",
     "text": [
      "False\n",
      "[a rdfg:Graph;rdflib:storage [a rdflib:Store;rdfs:label 'Memory']].\n",
      "Validation Report\n",
      "Conforms: False\n",
      "Results (1):\n",
      "Constraint Violation in MinInclusiveConstraintComponent (http://www.w3.org/ns/shacl#MinInclusiveConstraintComponent):\n",
      "\tSeverity: sh:Violation\n",
      "\tSource Shape: [ sh:minInclusive Literal(\"0.0\", datatype=xsd:decimal) ; sh:nodeKind sh:Literal ; sh:path qudt:numericValue ]\n",
      "\tFocus Node: :Height1\n",
      "\tValue Node: Literal(\"-2.0\", datatype=xsd:decimal)\n",
      "\tResult Path: qudt:numericValue\n",
      "\tMessage: Value is not >= Literal(\"0.0\", datatype=xsd:decimal)\n",
      "\n"
     ]
    }
   ],
   "source": [
    "from pyshacl import validate\n",
    "\n",
    "conforms, v_graph, v_text = validate(data_graph, shacl_graph=shacl,\n",
    "                                     ont_graph=ontology,\n",
    "                                     data_graph_format=\"turtle\",\n",
    "                                     shacl_graph_format=\"turtle\",\n",
    "                                     inference='rdfs', debug=False,\n",
    "                                     serialize_report_graph=False)\n",
    "print(conforms)\n",
    "print(v_graph)\n",
    "print(v_text)"
   ],
   "metadata": {
    "collapsed": false,
    "pycharm": {
     "name": "#%%\n"
    }
   }
  },
  {
   "cell_type": "code",
   "execution_count": 108,
   "outputs": [
    {
     "name": "stdout",
     "output_type": "stream",
     "text": [
      "False\n",
      "[a rdfg:Graph;rdflib:storage [a rdflib:Store;rdfs:label 'Memory']].\n",
      "Validation Report\n",
      "Conforms: False\n",
      "Results (5):\n",
      "Constraint Violation in MinInclusiveConstraintComponent (http://www.w3.org/ns/shacl#MinInclusiveConstraintComponent):\n",
      "\tSeverity: sh:Violation\n",
      "\tSource Shape: [ sh:maxCount Literal(\"1\", datatype=xsd:integer) ; sh:minCount Literal(\"1\", datatype=xsd:integer) ; sh:minInclusive Literal(\"0.0\", datatype=xsd:decimal) ; sh:nodeKind sh:Literal ; sh:or ( [ sh:datatype xsd:double ] [ sh:datatype xsd:float ] [ sh:datatype xsd:decimal ] ) ; sh:path qudt:numericValue ]\n",
      "\tFocus Node: :Length1\n",
      "\tValue Node: Literal(\"-1.0\", datatype=xsd:float)\n",
      "\tResult Path: qudt:numericValue\n",
      "\tMessage: Value is not >= Literal(\"0.0\", datatype=xsd:decimal)\n",
      "Constraint Violation in ClassConstraintComponent (http://www.w3.org/ns/shacl#ClassConstraintComponent):\n",
      "\tSeverity: sh:Violation\n",
      "\tSource Shape: [ sh:class qudt:Unit ; sh:maxCount Literal(\"1\", datatype=xsd:integer) ; sh:minCount Literal(\"1\", datatype=xsd:integer) ; sh:nodeKind sh:IRI ; sh:path qudt:unit ]\n",
      "\tFocus Node: :Height2\n",
      "\tValue Node: :M\n",
      "\tResult Path: qudt:unit\n",
      "\tMessage: Value does not have class qudt:Unit\n",
      "Constraint Violation in ClassConstraintComponent (http://www.w3.org/ns/shacl#ClassConstraintComponent):\n",
      "\tSeverity: sh:Violation\n",
      "\tSource Shape: [ sh:class qudt:Unit ; sh:maxCount Literal(\"1\", datatype=xsd:integer) ; sh:minCount Literal(\"1\", datatype=xsd:integer) ; sh:nodeKind sh:IRI ; sh:path qudt:unit ]\n",
      "\tFocus Node: :Length2\n",
      "\tValue Node: unit:M\n",
      "\tResult Path: qudt:unit\n",
      "\tMessage: Value does not have class qudt:Unit\n",
      "Constraint Violation in MinCountConstraintComponent (http://www.w3.org/ns/shacl#MinCountConstraintComponent):\n",
      "\tSeverity: sh:Violation\n",
      "\tSource Shape: [ sh:class qudt:Unit ; sh:maxCount Literal(\"1\", datatype=xsd:integer) ; sh:minCount Literal(\"1\", datatype=xsd:integer) ; sh:nodeKind sh:IRI ; sh:path qudt:unit ]\n",
      "\tFocus Node: :Height1\n",
      "\tResult Path: qudt:unit\n",
      "\tMessage: Less than 1 values on :Height1->qudt:unit\n",
      "Constraint Violation in ClassConstraintComponent (http://www.w3.org/ns/shacl#ClassConstraintComponent):\n",
      "\tSeverity: sh:Violation\n",
      "\tSource Shape: [ sh:class qudt:Unit ; sh:maxCount Literal(\"1\", datatype=xsd:integer) ; sh:minCount Literal(\"1\", datatype=xsd:integer) ; sh:nodeKind sh:IRI ; sh:path qudt:unit ]\n",
      "\tFocus Node: :Length1\n",
      "\tValue Node: unit:CentiM\n",
      "\tResult Path: qudt:unit\n",
      "\tMessage: Value does not have class qudt:Unit\n",
      "\n"
     ]
    }
   ],
   "source": [
    "from pyshacl import validate\n",
    "\n",
    "\n",
    "shapes_file = \"\"\"\n",
    "prefix ex: <http://example.org/>\n",
    "@prefix sh: <http://www.w3.org/ns/shacl#> .\n",
    "@prefix rdf: <http://www.w3.org/1999/02/22-rdf-syntax-ns#> .\n",
    "@prefix rdfs: <http://www.w3.org/2000/01/rdf-schema#> .\n",
    "@prefix xsd: <http://www.w3.org/2001/XMLSchema#> .\n",
    "@prefix qudt: <http://qudt.org/schema/qudt/> .\n",
    "@prefix unit: <http://qudt.org/vocab/unit/> .\n",
    "\n",
    "ex:NegativeMeasurementShape a sh:NodeShape ;\n",
    "    sh:targetClass ex:Measurement ;\n",
    "    sh:property [\n",
    "        sh:path qudt:numericValue ;\n",
    "        sh:nodeKind sh:Literal ;\n",
    "        sh:or ( [ sh:datatype xsd:double ] [ sh:datatype xsd:float ] [ sh:datatype xsd:decimal ] ) ;\n",
    "        sh:minInclusive 0.0 ;\n",
    "        sh:minCount 1 ;\n",
    "        sh:maxCount 1 ;\n",
    "    ] ;\n",
    "    sh:property [\n",
    "        sh:path qudt:unit ;\n",
    "        sh:nodeKind sh:IRI ;\n",
    "        sh:class qudt:Unit ;\n",
    "        sh:minCount 1 ;\n",
    "        sh:maxCount 1 ;\n",
    "    ] .\n",
    "\"\"\"\n",
    "shapes_file_format = 'turtle'\n",
    "\n",
    "data_file = '''\n",
    "prefix : <http://example.org/>\n",
    "@prefix sh: <http://www.w3.org/ns/shacl#> .\n",
    "@prefix rdf: <http://www.w3.org/1999/02/22-rdf-syntax-ns#> .\n",
    "@prefix rdfs: <http://www.w3.org/2000/01/rdf-schema#> .\n",
    "@prefix xsd: <http://www.w3.org/2001/XMLSchema#> .\n",
    "@prefix qudt: <http://qudt.org/schema/qudt/> .\n",
    "@prefix unit: <http://qudt.org/vocab/unit/> .\n",
    "\n",
    ":Length1 a :Length ;\n",
    "  qudt:numericValue \"-1.0\"^^xsd:float ;\n",
    "  qudt:unit unit:CentiM ;\n",
    ".\n",
    "\n",
    ":Length2 a :Length ;\n",
    "  qudt:numericValue \"2.0\"^^xsd:decimal ;\n",
    "  qudt:unit unit:M ;\n",
    ".\n",
    "\n",
    ":Height1 a :Height ;\n",
    "  qudt:numericValue \"3\"^^xsd:double ;\n",
    ".\n",
    "\n",
    ":Height2 a :Height ;\n",
    "  qudt:numericValue 4.0 ;\n",
    "  qudt:unit :M ;\n",
    ".\n",
    "'''\n",
    "data_file_format = 'turtle'\n",
    "\n",
    "conforms, v_graph, v_text = validate(data_file, shacl_graph=shapes_file,\n",
    "                                     ont_graph=ontology,\n",
    "                                     data_graph_format=data_file_format,\n",
    "                                     shacl_graph_format=shapes_file_format,\n",
    "                                     inference='rdfs', debug=False,\n",
    "                                     serialize_report_graph=False)\n",
    "print(conforms)\n",
    "print(v_graph)\n",
    "print(v_text)"
   ],
   "metadata": {
    "collapsed": false,
    "pycharm": {
     "name": "#%%\n"
    }
   }
  },
  {
   "cell_type": "markdown",
   "source": [
    "# using kglab\n",
    "\n",
    "> Note: this doesn't work, I am not presently using `kglab`"
   ],
   "metadata": {
    "collapsed": false,
    "pycharm": {
     "name": "#%% md\n"
    }
   }
  },
  {
   "cell_type": "code",
   "execution_count": 87,
   "outputs": [
    {
     "data": {
      "text/plain": "<kglab.kglab.KnowledgeGraph at 0x294ee7910>"
     },
     "execution_count": 87,
     "metadata": {},
     "output_type": "execute_result"
    }
   ],
   "source": [
    "from os.path import dirname\n",
    "import kglab\n",
    "import os\n",
    "\n",
    "namespaces = {\n",
    "    \"nom\":  \"http://example.org/#\",\n",
    "    \"wtm\":  \"http://purl.org/heals/food/\",\n",
    "    \"ind\":  \"http://purl.org/heals/ingredient/\",\n",
    "    \"skos\": \"http://www.w3.org/2004/02/skos/core#\",\n",
    "    }\n",
    "\n",
    "kg = kglab.KnowledgeGraph(\n",
    "    name = \"A recipe KG example based on Food.com\",\n",
    "    base_uri = \"https://www.food.com/recipe/\",\n",
    "    namespaces = namespaces,\n",
    "    )\n",
    "\n",
    "kg.load_rdf('ontology/minimal.ttl')\n",
    "# kg.load_rdf(os.path.join('/Users/wfr5091/Downloads', \"recipes.ttl\"))"
   ],
   "metadata": {
    "collapsed": false,
    "pycharm": {
     "name": "#%%\n"
    }
   }
  },
  {
   "cell_type": "code",
   "execution_count": null,
   "outputs": [],
   "source": [
    "shape_graph = \"\"\"\n",
    "prefix ex: <http://example.org/>\n",
    "@prefix sh: <http://www.w3.org/ns/shacl#> .\n",
    "@prefix rdf: <http://www.w3.org/1999/02/22-rdf-syntax-ns#> .\n",
    "@prefix rdfs: <http://www.w3.org/2000/01/rdf-schema#> .\n",
    "@prefix xsd: <http://www.w3.org/2001/XMLSchema#> .\n",
    "@prefix qudt: <http://qudt.org/schema/qudt/> .\n",
    "@prefix unit: <http://qudt.org/vocab/unit/> .\n",
    "\n",
    "ex:NegativeMeasurementShape a sh:NodeShape ;\n",
    "    sh:targetClass ex:Measurement ;\n",
    "    sh:property [\n",
    "        sh:path qudt:numericValue ;\n",
    "        sh:nodeKind sh:Literal ;\n",
    "        sh:or ( [ sh:datatype xsd:double ] [ sh:datatype xsd:float ] [ sh:datatype xsd:decimal ] ) ;\n",
    "        sh:minInclusive 0.0 ;\n",
    "        sh:minCount 1 ;\n",
    "        sh:maxCount 1 ;\n",
    "    ] ;\n",
    "    sh:property [\n",
    "        sh:path qudt:unit ;\n",
    "        sh:nodeKind sh:IRI ;\n",
    "        sh:class qudt:Unit ;\n",
    "        sh:minCount 1 ;\n",
    "        sh:maxCount 1 ;\n",
    "    ] .\n",
    "\"\"\"\n",
    "\n",
    "conforms, report_graph, report_text = kg.validate(\n",
    "    shacl_graph=shape_graph,\n",
    "    shacl_graph_format=\"ttl\"\n",
    ")\n",
    "print(conforms)\n",
    "print(report_text)"
   ],
   "metadata": {
    "collapsed": false,
    "pycharm": {
     "name": "#%%\n",
     "is_executing": true
    }
   }
  },
  {
   "cell_type": "code",
   "execution_count": null,
   "outputs": [],
   "source": [],
   "metadata": {
    "collapsed": false,
    "pycharm": {
     "name": "#%%\n"
    }
   }
  }
 ],
 "metadata": {
  "kernelspec": {
   "display_name": "Python 3",
   "language": "python",
   "name": "python3"
  },
  "language_info": {
   "codemirror_mode": {
    "name": "ipython",
    "version": 2
   },
   "file_extension": ".py",
   "mimetype": "text/x-python",
   "name": "python",
   "nbconvert_exporter": "python",
   "pygments_lexer": "ipython2",
   "version": "2.7.6"
  }
 },
 "nbformat": 4,
 "nbformat_minor": 0
}