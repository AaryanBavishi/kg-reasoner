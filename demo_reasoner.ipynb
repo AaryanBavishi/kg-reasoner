{
 "cells": [
  {
   "cell_type": "markdown",
   "source": [
    "# setup"
   ],
   "metadata": {
    "collapsed": false,
    "pycharm": {
     "name": "#%% md\n"
    }
   }
  },
  {
   "cell_type": "code",
   "execution_count": 16,
   "metadata": {
    "collapsed": true,
    "pycharm": {
     "name": "#%%\n"
    }
   },
   "outputs": [],
   "source": [
    "import ontology, os\n",
    "\n",
    "ont = ontology.Reasoner()\n",
    "ont.parse_yml(os.path.join('ontology', 'shapes.yaml'))"
   ]
  },
  {
   "cell_type": "markdown",
   "source": [
    "fill equation edges based on references made in them\n",
    "> we could automate this inside the class def"
   ],
   "metadata": {
    "collapsed": false,
    "pycharm": {
     "name": "#%% md\n"
    }
   }
  },
  {
   "cell_type": "code",
   "execution_count": 17,
   "outputs": [],
   "source": [
    "ont.fill_equation_edges()"
   ],
   "metadata": {
    "collapsed": false,
    "pycharm": {
     "name": "#%%\n"
    }
   }
  },
  {
   "cell_type": "markdown",
   "source": [
    "propagate inheritance manually after loading the equation edges\n",
    "> we could automate this inside the class def"
   ],
   "metadata": {
    "collapsed": false,
    "pycharm": {
     "name": "#%% md\n"
    }
   }
  },
  {
   "cell_type": "code",
   "execution_count": 18,
   "outputs": [
    {
     "name": "stdout",
     "output_type": "stream",
     "text": [
      "adding property Shape3D.Volume to node Sphere as Sphere.Volume\n",
      "adding property Shape3D.Area to node Sphere as Sphere.Area\n",
      "adding property Shape3D.Mass to node Sphere as Sphere.Mass\n",
      "adding property Shape3D.MassDensity to node Sphere as Sphere.MassDensity\n",
      "from Shape3D.Eq0, Sphere inheriting MassDensity = Mass / Volume as Sphere.Eq3\n",
      ">  ['Sphere', 'Shape3D', 'Shape', 'Object']\n",
      "adding property Shape3D.Volume to node Cuboid as Cuboid.Volume\n",
      "adding property Shape3D.Area to node Cuboid as Cuboid.Area\n",
      "adding property Shape3D.Mass to node Cuboid as Cuboid.Mass\n",
      "adding property Shape3D.MassDensity to node Cuboid as Cuboid.MassDensity\n",
      "from Shape3D.Eq0, Cuboid inheriting MassDensity = Mass / Volume as Cuboid.Eq2\n",
      ">  ['Cuboid', 'Shape3D', 'Shape', 'Object']\n",
      "adding property Shape3D.Volume to node Cube as Cube.Volume\n",
      "adding property Shape3D.Area to node Cube as Cube.Area\n",
      "adding property Shape3D.Mass to node Cube as Cube.Mass\n",
      "adding property Shape3D.MassDensity to node Cube as Cube.MassDensity\n",
      "from Shape3D.Eq0, Cube inheriting MassDensity = Mass / Volume as Cube.Eq2\n",
      ">  ['Cube', 'Cuboid', 'Shape3D', 'Shape', 'Object']\n",
      "adding property Cuboid.Length to node Cube as Cube.Length\n",
      "adding property Cuboid.Width to node Cube as Cube.Width\n",
      "adding property Cuboid.Height to node Cube as Cube.Height\n",
      "adding property Cuboid.Volume to node Cube as Cube.Volume\n",
      "adding property Cuboid.Area to node Cube as Cube.Area\n",
      "adding property Cuboid.Mass to node Cube as Cube.Mass\n",
      "adding property Cuboid.MassDensity to node Cube as Cube.MassDensity\n",
      "from Cuboid.Eq0, Cube inheriting Volume = Length * Width * Height as Cube.Eq3\n",
      ">  ['Cube', 'Cuboid', 'Shape3D', 'Shape', 'Object']\n",
      "from Cuboid.Eq1, Cube inheriting Area = 2 * Length * Width + 2 * Length * Height + 2 * Width * Height as Cube.Eq4\n",
      ">  ['Cube', 'Cuboid', 'Shape3D', 'Shape', 'Object']\n",
      "from Cuboid.Eq2, Cube inheriting MassDensity = Mass / Volume as Cube.Eq5\n",
      ">  ['Cube', 'Cuboid', 'Shape3D', 'Shape', 'Object']\n"
     ]
    }
   ],
   "source": [
    "ont.propagate_inheritance()"
   ],
   "metadata": {
    "collapsed": false,
    "pycharm": {
     "name": "#%%\n"
    }
   }
  },
  {
   "cell_type": "markdown",
   "source": [
    "define the restrictions on values"
   ],
   "metadata": {
    "collapsed": false,
    "pycharm": {
     "name": "#%% md\n"
    }
   }
  },
  {
   "cell_type": "code",
   "execution_count": 10,
   "outputs": [],
   "source": [
    "# presently hard-coding these but should use xsd+shacl instead!\n",
    "\n",
    "def is_float(x):\n",
    "    try:\n",
    "        float(x)\n",
    "        return True\n",
    "    except:\n",
    "        return False\n",
    "\n",
    "# refer to https://www.qudt.org/doc\n",
    "ont.graph_.add_node('datarange:StrictlyPositive', type='datarange', valid=lambda x: x > 0)\n",
    "ont.graph_.add_node('datatype:Float', type='datatype', valid=is_float)\n",
    "ont.graph_.add_node('qk:Length', type='quantitykind', hasvaluesof='datatype:Float', hasrange='datarange:StrictlyPositive')\n",
    "ont.graph_.add_node('qk:Area', type='quantitykind', hasvaluesof='datatype:Float', hasrange='datarange:StrictlyPositive')\n",
    "ont.graph_.add_node('qk:Volume', type='quantitykind', hasvaluesof='datatype:Float', hasrange='datarange:StrictlyPositive')\n",
    "ont.graph_.add_node('qk:Mass', type='quantitykind', hasvaluesof='datatype:Float', hasrange='datarange:StrictlyPositive')\n",
    "ont.graph_.add_node('qk:MassDensity', type='quantitykind', hasvaluesof='datatype:Float', hasrange='datarange:StrictlyPositive')"
   ],
   "metadata": {
    "collapsed": false,
    "pycharm": {
     "name": "#%%\n"
    }
   }
  },
  {
   "cell_type": "markdown",
   "source": [
    "# reasoning"
   ],
   "metadata": {
    "collapsed": false,
    "pycharm": {
     "name": "#%% md\n"
    }
   }
  },
  {
   "cell_type": "code",
   "execution_count": 13,
   "outputs": [
    {
     "name": "stdout",
     "output_type": "stream",
     "text": [
      "{'type': 'Sphere', 'Sphere.Radius': 1.5, 'Sphere.Mass': 3.0}\n",
      "known props: ['Sphere.Radius', 'Sphere.Mass']\n",
      "unknown props: ['Sphere.Diameter', 'Sphere.Volume', 'Sphere.Area', 'Sphere.MassDensity'] \n",
      "\n"
     ]
    },
    {
     "data": {
      "text/plain": "{'type': 'Sphere',\n 'Radius': 1.5,\n 'Mass': 3.0,\n 'Diameter': 3.00000000000000,\n 'Volume': 14.1371669411541,\n 'Area': 28.2743338823081,\n 'MassDensity': 0.212206590789194}"
     },
     "execution_count": 13,
     "metadata": {},
     "output_type": "execute_result"
    }
   ],
   "source": [
    "# this example will fill Diameter, Volume, Area, and MassDensity\n",
    "obj = dict(type='Sphere', Radius=1.5, Mass=3.0)\n",
    "ont.fill(obj)"
   ],
   "metadata": {
    "collapsed": false,
    "pycharm": {
     "name": "#%%\n"
    }
   }
  },
  {
   "cell_type": "code",
   "execution_count": 15,
   "outputs": [
    {
     "name": "stdout",
     "output_type": "stream",
     "text": [
      "{'type': 'Sphere', 'Sphere.Radius': 1.5}\n",
      "known props: ['Sphere.Radius']\n",
      "unknown props: ['Sphere.Diameter', 'Sphere.Volume', 'Sphere.Area', 'Sphere.Mass', 'Sphere.MassDensity'] \n",
      "\n"
     ]
    },
    {
     "data": {
      "text/plain": "{'type': 'Sphere',\n 'Radius': 1.5,\n 'Diameter': 3.00000000000000,\n 'Volume': 14.1371669411541,\n 'Area': 28.2743338823081}"
     },
     "execution_count": 15,
     "metadata": {},
     "output_type": "execute_result"
    }
   ],
   "source": [
    "# this example will fill only Diameter, Volume, and Area since Mass is missing\n",
    "obj = dict(type='Sphere', Radius=1.5)\n",
    "ont.fill(obj)"
   ],
   "metadata": {
    "collapsed": false,
    "pycharm": {
     "name": "#%%\n"
    }
   }
  },
  {
   "cell_type": "code",
   "execution_count": null,
   "outputs": [],
   "source": [],
   "metadata": {
    "collapsed": false,
    "pycharm": {
     "name": "#%%\n"
    }
   }
  }
 ],
 "metadata": {
  "kernelspec": {
   "display_name": "Python 3",
   "language": "python",
   "name": "python3"
  },
  "language_info": {
   "codemirror_mode": {
    "name": "ipython",
    "version": 2
   },
   "file_extension": ".py",
   "mimetype": "text/x-python",
   "name": "python",
   "nbconvert_exporter": "python",
   "pygments_lexer": "ipython2",
   "version": "2.7.6"
  }
 },
 "nbformat": 4,
 "nbformat_minor": 0
}